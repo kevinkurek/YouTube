{
 "cells": [
  {
   "cell_type": "code",
   "execution_count": 50,
   "metadata": {},
   "outputs": [
    {
     "name": "stdout",
     "output_type": "stream",
     "text": [
      "Total Possbilites: 240\n",
      "63 Scenarios over 50 points, but under 65 points\n"
     ]
    },
    {
     "data": {
      "text/html": [
       "<div>\n",
       "<style scoped>\n",
       "    .dataframe tbody tr th:only-of-type {\n",
       "        vertical-align: middle;\n",
       "    }\n",
       "\n",
       "    .dataframe tbody tr th {\n",
       "        vertical-align: top;\n",
       "    }\n",
       "\n",
       "    .dataframe thead th {\n",
       "        text-align: right;\n",
       "    }\n",
       "</style>\n",
       "<table border=\"1\" class=\"dataframe\">\n",
       "  <thead>\n",
       "    <tr style=\"text-align: right;\">\n",
       "      <th></th>\n",
       "      <th>Scenario</th>\n",
       "      <th>Sum</th>\n",
       "    </tr>\n",
       "  </thead>\n",
       "  <tbody>\n",
       "    <tr>\n",
       "      <th>0</th>\n",
       "      <td>(0, 25, 20, 6)</td>\n",
       "      <td>51</td>\n",
       "    </tr>\n",
       "    <tr>\n",
       "      <th>1</th>\n",
       "      <td>(0, 25, 20, 8)</td>\n",
       "      <td>53</td>\n",
       "    </tr>\n",
       "    <tr>\n",
       "      <th>2</th>\n",
       "      <td>(0, 25, 30, 0)</td>\n",
       "      <td>55</td>\n",
       "    </tr>\n",
       "    <tr>\n",
       "      <th>3</th>\n",
       "      <td>(0, 25, 30, 2)</td>\n",
       "      <td>57</td>\n",
       "    </tr>\n",
       "    <tr>\n",
       "      <th>4</th>\n",
       "      <td>(0, 25, 30, 4)</td>\n",
       "      <td>59</td>\n",
       "    </tr>\n",
       "  </tbody>\n",
       "</table>\n",
       "</div>"
      ],
      "text/plain": [
       "         Scenario  Sum\n",
       "0  (0, 25, 20, 6)   51\n",
       "1  (0, 25, 20, 8)   53\n",
       "2  (0, 25, 30, 0)   55\n",
       "3  (0, 25, 30, 2)   57\n",
       "4  (0, 25, 30, 4)   59"
      ]
     },
     "metadata": {},
     "output_type": "display_data"
    }
   ],
   "source": [
    "import itertools\n",
    "import pandas as pd\n",
    "pd.set_option(\"max.rows\", None)\n",
    "\n",
    "# Laws must sum to 50 total points\n",
    "\n",
    "industry_mix = [15, 20, 0]\n",
    "employment_rules = [42, 35, 25, 0]\n",
    "fed_loan = [30, 20, 10, 0]\n",
    "comp_to_other_ports = [2, 4, 6, 8, 0]\n",
    "\n",
    "total_possiblities = len(industry_mix)*len(employment_rules)*len(fed_loan)*len(comp_to_other_ports)\n",
    "print(f\"Total Possbilites: {total_possiblities}\")\n",
    "\n",
    "possibilities = [(x,sum(x)) for x in itertools.product(industry_mix,employment_rules,\n",
    "                                                       fed_loan,comp_to_other_ports)]\n",
    "\n",
    "keep_combo=[]\n",
    "for scenario in possibilities:\n",
    "    if (scenario[1]>=50) & (scenario[1]<65):\n",
    "        keep_combo.append(scenario)\n",
    "print(f\"{len(keep_combo)} Scenarios over 50 points, but under 65 points\")\n",
    "sorted_list = sorted(keep_combo, key=lambda x: x[0])\n",
    "sorted_list\n",
    "\n",
    "df = pd.DataFrame(sorted_list, columns=[\"Scenario\", \"Sum\"])\n",
    "display(df.head())\n",
    "df.to_csv(\"Union_Negotiation.csv\", index=False)"
   ]
  },
  {
   "cell_type": "code",
   "execution_count": null,
   "metadata": {},
   "outputs": [],
   "source": [
    "# list_of_possbilities=[]\n",
    "# for i in industry_mix:\n",
    "#     for j in employment_rules:\n",
    "#         for k in fed_loan:\n",
    "#             for l in comp_to_other_ports:\n",
    "#                 if (i+j) | ()\n",
    "#                 sum_iter = i+j+k+l\n",
    "#                 if (sum_iter>=50) & (sum_iter<60):\n",
    "#                     if i not in list_of_possbilities:\n",
    "#                         list_of_possbilities.append([i, j, k, l])\n",
    "# print(len(list_of_possbilities))\n",
    "# list_of_possbilities"
   ]
  }
 ],
 "metadata": {
  "kernelspec": {
   "display_name": "Python 3",
   "language": "python",
   "name": "python3"
  },
  "language_info": {
   "codemirror_mode": {
    "name": "ipython",
    "version": 3
   },
   "file_extension": ".py",
   "mimetype": "text/x-python",
   "name": "python",
   "nbconvert_exporter": "python",
   "pygments_lexer": "ipython3",
   "version": "3.6.8"
  }
 },
 "nbformat": 4,
 "nbformat_minor": 2
}
